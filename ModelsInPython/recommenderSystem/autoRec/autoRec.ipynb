{
 "cells": [
  {
   "cell_type": "code",
   "execution_count": 1,
   "metadata": {},
   "outputs": [],
   "source": [
    "import tensorflow as tf\n",
    "from data_preprocessor import read_rating"
   ]
  },
  {
   "cell_type": "code",
   "execution_count": 2,
   "metadata": {},
   "outputs": [],
   "source": [
    "path = 'd:/WorkDocuments/MachineLearningModels/ModelsInPython/data/ml-1m/'\n",
    "num_users = 6040\n",
    "num_items = 3952\n",
    "num_total_ratings = 1000209\n",
    "train_ratio = 0.75\n",
    "a = 1 #positive rating\n",
    "b = 0 #negative rating"
   ]
  },
  {
   "cell_type": "code",
   "execution_count": 3,
   "metadata": {},
   "outputs": [],
   "source": [
    "R, mask_R, C, train_R, train_mask_R, test_R, test_mask_R, num_train_ratings, num_test_ratings, \\\n",
    "user_train_set, item_train_set, user_test_set, item_test_set \\\n",
    "    = read_rating(num_users=num_users, num_items=num_items, num_total_ratings=num_total_ratings, train_ratio=train_ratio, a=a, b=b, path=path)"
   ]
  },
  {
   "cell_type": "code",
   "execution_count": 4,
   "metadata": {},
   "outputs": [],
   "source": [
    "hidden_neuron = 500"
   ]
  },
  {
   "cell_type": "code",
   "execution_count": 5,
   "metadata": {},
   "outputs": [],
   "source": [
    "train_R[1:]"
   ]
  }
 ],
 "metadata": {
  "interpreter": {
   "hash": "e137744d227937f909cff00e1379b881cdd0069c4a6fa90a797cab6967c4ca35"
  },
  "kernelspec": {
   "display_name": "Python 3.7.9 64-bit (system)",
   "language": "python",
   "name": "python3"
  },
  "language_info": {
   "codemirror_mode": {
    "name": "ipython",
    "version": 3
   },
   "file_extension": ".py",
   "mimetype": "text/x-python",
   "name": "python",
   "nbconvert_exporter": "python",
   "pygments_lexer": "ipython3",
   "version": "3.7.9"
  },
  "orig_nbformat": 4
 },
 "nbformat": 4,
 "nbformat_minor": 2
}
