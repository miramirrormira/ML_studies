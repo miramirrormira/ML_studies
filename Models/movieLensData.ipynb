{
 "cells": [
  {
   "cell_type": "code",
   "execution_count": 1,
   "metadata": {},
   "outputs": [],
   "source": [
    "import pandas as pd\n",
    "import numpy as np\n",
    "import os\n",
    "\n",
    "import sys\n",
    "sys.path.insert(1, '../../scripts')"
   ]
  },
  {
   "cell_type": "code",
   "execution_count": 2,
   "metadata": {},
   "outputs": [
    {
     "name": "stderr",
     "output_type": "stream",
     "text": [
      "d:\\WorkDocuments\\pythonTensorflowEnv\\lib\\site-packages\\ipykernel_launcher.py:2: ParserWarning: Falling back to the 'python' engine because the 'c' engine does not support regex separators (separators > 1 char and different from '\\s+' are interpreted as regex); you can avoid this warning by specifying engine='python'.\n",
      "  \n",
      "d:\\WorkDocuments\\pythonTensorflowEnv\\lib\\site-packages\\ipykernel_launcher.py:3: ParserWarning: Falling back to the 'python' engine because the 'c' engine does not support regex separators (separators > 1 char and different from '\\s+' are interpreted as regex); you can avoid this warning by specifying engine='python'.\n",
      "  This is separate from the ipykernel package so we can avoid doing imports until\n",
      "d:\\WorkDocuments\\pythonTensorflowEnv\\lib\\site-packages\\ipykernel_launcher.py:4: ParserWarning: Falling back to the 'python' engine because the 'c' engine does not support regex separators (separators > 1 char and different from '\\s+' are interpreted as regex); you can avoid this warning by specifying engine='python'.\n",
      "  after removing the cwd from sys.path.\n"
     ]
    }
   ],
   "source": [
    "base_dir_1m = '../../data/ml-1m'\n",
    "ratings = pd.read_csv(os.path.join(base_dir_1m, 'ratings.dat'), sep='::', names=['UserID', \"MovieID\", \"Rating\", \"TimeStamp\"])\n",
    "users = pd.read_csv(os.path.join(base_dir_1m, 'users.dat'), sep=\"::\", names=[\"UserID\",\"Gender\",\"Age\",\"Occupation\",\"Zipcode\"])\n",
    "movies = pd.read_csv(os.path.join(base_dir_1m, 'movies.dat'), sep=\"::\", names=[\"MovieID\", \"Title\", \"Genres\"])"
   ]
  },
  {
   "cell_type": "code",
   "execution_count": 3,
   "metadata": {},
   "outputs": [
    {
     "name": "stdout",
     "output_type": "stream",
     "text": [
      "   UserID  MovieID  Rating  TimeStamp\n",
      "0       1     1193       5  978300760\n",
      "1       1      661       3  978302109\n",
      "2       1      914       3  978301968\n",
      "3       1     3408       4  978300275\n",
      "4       1     2355       5  978824291\n",
      "   UserID Gender  Age  Occupation Zipcode\n",
      "0       1      F    1          10   48067\n",
      "1       2      M   56          16   70072\n",
      "2       3      M   25          15   55117\n",
      "3       4      M   45           7   02460\n",
      "4       5      M   25          20   55455\n",
      "   MovieID                               Title                        Genres\n",
      "0        1                    Toy Story (1995)   Animation|Children's|Comedy\n",
      "1        2                      Jumanji (1995)  Adventure|Children's|Fantasy\n",
      "2        3             Grumpier Old Men (1995)                Comedy|Romance\n",
      "3        4            Waiting to Exhale (1995)                  Comedy|Drama\n",
      "4        5  Father of the Bride Part II (1995)                        Comedy\n"
     ]
    }
   ],
   "source": [
    "print(ratings.head(5))\n",
    "print(users.head(5))\n",
    "print(movies.head(5))"
   ]
  },
  {
   "cell_type": "code",
   "execution_count": 27,
   "metadata": {},
   "outputs": [
    {
     "data": {
      "text/plain": [
       "0          1\n",
       "1          2\n",
       "2          3\n",
       "3          4\n",
       "4          5\n",
       "        ... \n",
       "6035    6036\n",
       "6036    6037\n",
       "6037    6038\n",
       "6038    6039\n",
       "6039    6040\n",
       "Name: UserID, Length: 6040, dtype: int64"
      ]
     },
     "execution_count": 27,
     "metadata": {},
     "output_type": "execute_result"
    }
   ],
   "source": [
    "#indexing\n",
    "users.iloc[0:3, 0:3] #1st - 3rd row, 1st - 3rd column\n",
    "users.iloc[0] #1st row\n",
    "users.iloc[:, 0] #1st column\n"
   ]
  },
  {
   "cell_type": "code",
   "execution_count": 8,
   "metadata": {},
   "outputs": [
    {
     "name": "stdout",
     "output_type": "stream",
     "text": [
      "missing values:\n",
      "{'UserID': 0.0, 'MovieID': 0.0, 'Rating': 0.0, 'TimeStamp': 0.0, 'total': 0.0}\n",
      "rows with missing values:\n",
      "Empty DataFrame\n",
      "Columns: [MovieID, Title, Genres]\n",
      "Index: []\n"
     ]
    }
   ],
   "source": [
    "import dataCleaning\n",
    "print(\"missing values:\")\n",
    "print(dataCleaning.missingValues(ratings))\n",
    "\n",
    "print(\"rows with missing values:\")\n",
    "print(dataCleaning.getRowsWithMissingValues(movies))"
   ]
  },
  {
   "cell_type": "code",
   "execution_count": 17,
   "metadata": {},
   "outputs": [
    {
     "data": {
      "text/plain": [
       "Int64Index([   1,    2,    3,    4,    5,    6,    7,    8,    9,   10,\n",
       "            ...\n",
       "            6031, 6032, 6033, 6034, 6035, 6036, 6037, 6038, 6039, 6040],\n",
       "           dtype='int64', name='UserID', length=6040)"
      ]
     },
     "execution_count": 17,
     "metadata": {},
     "output_type": "execute_result"
    }
   ],
   "source": [
    "rating_by_user = ratings[['UserID', 'Rating']].groupby(['UserID']).agg(['mean', 'count'])\n"
   ]
  },
  {
   "cell_type": "code",
   "execution_count": 10,
   "metadata": {},
   "outputs": [
    {
     "data": {
      "text/plain": [
       "(array([  2.,   0.,   1.,   0.,   0.,   0.,   0.,   0.,   2.,   3.,   5.,\n",
       "          5.,   8.,  10.,  19.,  25.,  34.,  63.,  69., 109., 149., 188.,\n",
       "        212., 358., 402., 479., 560., 585., 569., 565., 472., 413., 276.,\n",
       "        197., 127.,  75.,  29.,  20.,   5.,   4.]),\n",
       " array([1.01538462, 1.11407407, 1.21276353, 1.31145299, 1.41014245,\n",
       "        1.50883191, 1.60752137, 1.70621083, 1.80490028, 1.90358974,\n",
       "        2.0022792 , 2.10096866, 2.19965812, 2.29834758, 2.39703704,\n",
       "        2.4957265 , 2.59441595, 2.69310541, 2.79179487, 2.89048433,\n",
       "        2.98917379, 3.08786325, 3.18655271, 3.28524217, 3.38393162,\n",
       "        3.48262108, 3.58131054, 3.68      , 3.77868946, 3.87737892,\n",
       "        3.97606838, 4.07475783, 4.17344729, 4.27213675, 4.37082621,\n",
       "        4.46951567, 4.56820513, 4.66689459, 4.76558405, 4.8642735 ,\n",
       "        4.96296296]),\n",
       " <BarContainer object of 40 artists>)"
      ]
     },
     "execution_count": 10,
     "metadata": {},
     "output_type": "execute_result"
    },
    {
     "data": {
      "image/png": "[encoded data removed]",
      "text/plain": [
       "<Figure size 720x504 with 1 Axes>"
      ]
     },
     "metadata": {
      "needs_background": "light"
     },
     "output_type": "display_data"
    }
   ],
   "source": [
    "import matplotlib.pyplot as plt\n",
    "fig, axs = plt.subplots(1, 1,\n",
    "                        figsize =(10, 7),\n",
    "                        tight_layout = True)\n",
    " \n",
    "axs.hist(mean_rating[('Rating', 'mean')], bins = 40)"
   ]
  },
  {
   "cell_type": "code",
   "execution_count": 13,
   "metadata": {},
   "outputs": [
    {
     "data": {
      "text/plain": [
       "(array([ 56174.,      0., 107557.,      0.,      0., 261197.,      0.,\n",
       "        348971.,      0., 226310.]),\n",
       " array([1. , 1.4, 1.8, 2.2, 2.6, 3. , 3.4, 3.8, 4.2, 4.6, 5. ]),\n",
       " <BarContainer object of 10 artists>)"
      ]
     },
     "execution_count": 13,
     "metadata": {},
     "output_type": "execute_result"
    },
    {
     "data": {
      "image/png": "[encoded data removed]",
      "text/plain": [
       "<Figure size 432x288 with 3 Axes>"
      ]
     },
     "metadata": {
      "needs_background": "light"
     },
     "output_type": "display_data"
    }
   ],
   "source": [
    "import matplotlib.pyplot as plt\n",
    "# fig, axs = plt.subplots(1, 1,\n",
    "#                         figsize =(10, 7),\n",
    "#                         tight_layout = True)\n",
    "fig, axs = plt.subplots(1, 3)\n",
    " \n",
    "axs[0].hist(mean_rating[('Rating', 'mean')], bins = 40)\n",
    "axs[1].hist(mean_rating[('Rating', 'count')], bins = 10)\n",
    "axs[2].hist(ratings[['Rating']], bins=10)"
   ]
  }
 ],
 "metadata": {
  "interpreter": {
   "hash": "2f52eff7585514c07d5a29dd52aca431007bf1327d02252d46231fc524120cd5"
  },
  "kernelspec": {
   "display_name": "Python 3.7.9 64-bit (system)",
   "language": "python",
   "name": "python3"
  },
  "language_info": {
   "codemirror_mode": {
    "name": "ipython",
    "version": 3
   },
   "file_extension": ".py",
   "mimetype": "text/x-python",
   "name": "python",
   "nbconvert_exporter": "python",
   "pygments_lexer": "ipython3",
   "version": "3.7.9"
  },
  "orig_nbformat": 4
 },
 "nbformat": 4,
 "nbformat_minor": 2
}
